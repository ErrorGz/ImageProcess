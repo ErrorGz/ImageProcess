{
 "cells": [
  {
   "cell_type": "code",
   "execution_count": 1,
   "metadata": {},
   "outputs": [],
   "source": [
    "\n",
    "from ultralytics import YOLO\n",
    "import cv2\n",
    "import numpy as np\n",
    "import math\n",
    "from collections import defaultdict"
   ]
  },
  {
   "cell_type": "code",
   "execution_count": 2,
   "metadata": {},
   "outputs": [],
   "source": [
    "# Load the YOLOv8 model\n",
    "model = YOLO('yolov8n-pose.pt')\n",
    "# 新建颜色数组\n",
    "colors = [(255, 0, 0), (0, 255, 0), (0, 0, 255), (255, 255, 0), (0, 255, 255), (255, 0, 255), (128, 0, 0),\n",
    "          (0, 128, 0), (0, 0, 128), (128, 128, 0), (0, 128,\n",
    "                                                    128), (128, 0, 128), (128, 128, 128), (64, 0, 0),\n",
    "          (0, 64, 0), (0, 0, 64), (64, 64, 0), (0, 64, 64), (64, 0, 64), (64, 64, 64)]\n",
    "\n",
    "# Open the video file\n",
    "video_path = \"E:\\BaiduSyncdisk\\PY\\DataSet\\视频\\9月14日.mp4\""
   ]
  },
  {
   "cell_type": "code",
   "execution_count": 3,
   "metadata": {},
   "outputs": [],
   "source": [
    "cap = cv2.VideoCapture(video_path)"
   ]
  },
  {
   "cell_type": "code",
   "execution_count": 88,
   "metadata": {},
   "outputs": [
    {
     "name": "stderr",
     "output_type": "stream",
     "text": [
      "\n",
      "0: 480x640 1 person, 218.0ms\n",
      "Speed: 10.0ms preprocess, 218.0ms inference, 9.0ms postprocess per image at shape (1, 3, 480, 640)\n"
     ]
    }
   ],
   "source": [
    "success, frame = cap.read()\n",
    " # 对frame缩小比例\n",
    "annotated_frame = cv2.resize(frame, (640, 480))\n",
    "\n",
    "# Run YOLOv8 tracking on the frame, persisting tracks between frames\n",
    "results = model.track(annotated_frame, persist=True)\n",
    "\n",
    "# Get the boxes and track IDs\n",
    "boxes = results[0].boxes.xywh.cpu().tolist()\n",
    "cls_list = results[0].boxes.cls.cpu().tolist()\n",
    "track_ids = results[0].boxes.id.int().cpu().tolist()\n",
    "keypoints = results[0].keypoints.xy.cpu()"
   ]
  },
  {
   "cell_type": "code",
   "execution_count": 84,
   "metadata": {},
   "outputs": [
    {
     "data": {
      "text/plain": [
       "[0.0]"
      ]
     },
     "execution_count": 84,
     "metadata": {},
     "output_type": "execute_result"
    }
   ],
   "source": [
    "results[0].boxes.cls.cpu().tolist()"
   ]
  },
  {
   "cell_type": "code",
   "execution_count": 89,
   "metadata": {},
   "outputs": [],
   "source": [
    "for i in range(keypoints.shape[0]):\n",
    "    points=keypoints[i].tolist()\n",
    "    track_id=track_ids[i]\n",
    "    box=boxes[i]\n",
    "    cls =cls_list[i]\n",
    "    name = results[0].names[cls]\n",
    "    p1 = points[1]\n",
    "    p2 = points[2]\n",
    "    p3 = points[3]\n",
    "    p4 = points[4]\n",
    "    a = (int((p1[0] + p2[0]) / 2), int((p1[1] + p2[1]) / 2))\n",
    "    b = (int((p3[0] + p4[0]) / 2), int((p3[1] + p4[1]) / 2))\n",
    "  \n",
    "    # 计算圆的半径\n",
    "    radius = 1.5 * max(math.sqrt((points[0][0] - p3[0]) ** 2 + (points[0][1] - p3[1]) ** 2),\n",
    "                        math.sqrt((points[0][0] - p4[0]) ** 2 + (points[0][1] - p4[1]) ** 2))\n",
    "    \n",
    "    # 计算线段的终点坐标\n",
    "    angle = math.atan2(a[1] - b[1], a[0] - b[0])\n",
    "    endpointX =(int)( b[0] + radius * math.cos(angle))\n",
    "    endpointY = (int)(b[1] + radius * math.sin(angle))\n",
    "    endpoint = (endpointX, endpointY)\n",
    "    \n",
    "    cv2.line(annotated_frame, (b[0],b[1]),(endpoint[0],endpoint[1]),colors[track_id % len(colors)], 2)\n"
   ]
  }
 ],
 "metadata": {
  "kernelspec": {
   "display_name": "py310",
   "language": "python",
   "name": "python3"
  },
  "language_info": {
   "codemirror_mode": {
    "name": "ipython",
    "version": 3
   },
   "file_extension": ".py",
   "mimetype": "text/x-python",
   "name": "python",
   "nbconvert_exporter": "python",
   "pygments_lexer": "ipython3",
   "version": "3.10.13"
  },
  "orig_nbformat": 4
 },
 "nbformat": 4,
 "nbformat_minor": 2
}
